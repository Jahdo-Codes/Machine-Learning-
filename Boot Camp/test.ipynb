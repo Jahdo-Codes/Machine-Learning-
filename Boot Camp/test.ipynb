{
 "cells": [
  {
   "cell_type": "code",
   "id": "initial_id",
   "metadata": {
    "collapsed": true,
    "ExecuteTime": {
     "end_time": "2025-04-08T07:45:02.211794Z",
     "start_time": "2025-04-08T07:45:02.017583Z"
    }
   },
   "source": [
    "import streamlit as st\n",
    "import numpy as np\n",
    "\n",
    "st.title('Matrix Calculator')\n",
    "\n",
    "operation = st.selectbox(\"What option would you like to perform on your matrices?\",\n",
    "             ('Addition','Subtraction','Multiplication')\n",
    "            )\n",
    "\n",
    "\n",
    "st.subheader('Enter the matrix dimensions')\n",
    "matrix_a_str = st.text_area(\"Enter matrix A (Separate rows by new line & numbers by spaces)\", \"1 2 \\n3 4\")\n",
    "\n",
    "matrix_b_str = st.text_area(\"Enter matrix B (Separate rows by new line & numbers by spaces)\", \"1 2 \\n3 4\")\n",
    "\n",
    "def parse_matrix(matrix_str):\n",
    "    try:\n",
    "        return np.array([\n",
    "            list(map(int, row.split()))\n",
    "            for row in matrix_str.strip().split('\\n')\n",
    "        ])\n",
    "    except:\n",
    "        return None\n",
    "\n",
    "A = parse_matrix(matrix_a_str)\n",
    "B = parse_matrix(matrix_b_str)\n",
    "\n",
    "if (A is None) or (B is None):\n",
    "    st.error('Matrix A and Matrix B are not valid.Please check formatting')\n",
    "\n",
    "elif st.button('Calculate'):\n",
    "    st.write('Matrix A')\n",
    "    st.write(A)\n",
    "    st.write('Matrix B')\n",
    "    st.write(B)\n",
    "\n",
    "    try:\n",
    "        if operation == 'Multiplication':\n",
    "            if A.shape[1] != B.shape[0]: #Checks if col_A = col_B\n",
    "                st.error('Matrix A and Matrix B dimensions are not compatible.')\n",
    "\n",
    "            else:\n",
    "                result = np.dot(A,B) #Performs matrix multiplication\n",
    "                st.success(f\"Result of A x B {result}\")\n",
    "                st.write(result)\n",
    "\n",
    "        elif operation == 'Subtraction':\n",
    "            if A.shape != B.shape: #Checks if matrix A and B have the same dimensions\n",
    "                st.error('Matrix A and Matrix B dimensions are not compatible. [m x n != n x p]')\n",
    "\n",
    "            else:\n",
    "                result = A - B\n",
    "                st.success(f\"Result of A - B {result}\")\n",
    "                st.write(result)\n",
    "\n",
    "        elif operation == 'Addition':\n",
    "            if A.shape != B.shape: #Checks if matrix A and B have the same dimensions\n",
    "                st.error('Matrix A and Matrix B dimensions are not compatible. [m x n != n x p]')\n",
    "\n",
    "            else:\n",
    "                result = A + B\n",
    "                st.success(f\"Result of A + B {result}\")\n",
    "                st.write(result)\n",
    "        else:\n",
    "            st.error('Invalid operation')\n",
    "\n",
    "\n",
    "    except Exception as e:\n",
    "        st.error(f'Calculation failed: {e}')"
   ],
   "outputs": [
    {
     "name": "stderr",
     "output_type": "stream",
     "text": [
      "2025-04-08 03:45:02.155 WARNING streamlit.runtime.scriptrunner_utils.script_run_context: Thread 'MainThread': missing ScriptRunContext! This warning can be ignored when running in bare mode.\n",
      "2025-04-08 03:45:02.205 \n",
      "  \u001B[33m\u001B[1mWarning:\u001B[0m to view this Streamlit app on a browser, run it with the following\n",
      "  command:\n",
      "\n",
      "    streamlit run /Library/Frameworks/Python.framework/Versions/3.12/lib/python3.12/site-packages/ipykernel_launcher.py [ARGUMENTS]\n",
      "2025-04-08 03:45:02.205 Thread 'MainThread': missing ScriptRunContext! This warning can be ignored when running in bare mode.\n",
      "2025-04-08 03:45:02.205 Thread 'MainThread': missing ScriptRunContext! This warning can be ignored when running in bare mode.\n",
      "2025-04-08 03:45:02.205 Thread 'MainThread': missing ScriptRunContext! This warning can be ignored when running in bare mode.\n",
      "2025-04-08 03:45:02.206 Thread 'MainThread': missing ScriptRunContext! This warning can be ignored when running in bare mode.\n",
      "2025-04-08 03:45:02.206 Thread 'MainThread': missing ScriptRunContext! This warning can be ignored when running in bare mode.\n",
      "2025-04-08 03:45:02.206 Session state does not function when running a script without `streamlit run`\n",
      "2025-04-08 03:45:02.206 Thread 'MainThread': missing ScriptRunContext! This warning can be ignored when running in bare mode.\n",
      "2025-04-08 03:45:02.206 Thread 'MainThread': missing ScriptRunContext! This warning can be ignored when running in bare mode.\n",
      "2025-04-08 03:45:02.207 Thread 'MainThread': missing ScriptRunContext! This warning can be ignored when running in bare mode.\n",
      "2025-04-08 03:45:02.207 Thread 'MainThread': missing ScriptRunContext! This warning can be ignored when running in bare mode.\n",
      "2025-04-08 03:45:02.207 Thread 'MainThread': missing ScriptRunContext! This warning can be ignored when running in bare mode.\n",
      "2025-04-08 03:45:02.207 Thread 'MainThread': missing ScriptRunContext! This warning can be ignored when running in bare mode.\n",
      "2025-04-08 03:45:02.208 Thread 'MainThread': missing ScriptRunContext! This warning can be ignored when running in bare mode.\n",
      "2025-04-08 03:45:02.208 Thread 'MainThread': missing ScriptRunContext! This warning can be ignored when running in bare mode.\n",
      "2025-04-08 03:45:02.208 Thread 'MainThread': missing ScriptRunContext! This warning can be ignored when running in bare mode.\n",
      "2025-04-08 03:45:02.208 Thread 'MainThread': missing ScriptRunContext! This warning can be ignored when running in bare mode.\n",
      "2025-04-08 03:45:02.208 Thread 'MainThread': missing ScriptRunContext! This warning can be ignored when running in bare mode.\n",
      "2025-04-08 03:45:02.208 Thread 'MainThread': missing ScriptRunContext! This warning can be ignored when running in bare mode.\n",
      "2025-04-08 03:45:02.209 Thread 'MainThread': missing ScriptRunContext! This warning can be ignored when running in bare mode.\n",
      "2025-04-08 03:45:02.209 Thread 'MainThread': missing ScriptRunContext! This warning can be ignored when running in bare mode.\n",
      "2025-04-08 03:45:02.209 Thread 'MainThread': missing ScriptRunContext! This warning can be ignored when running in bare mode.\n",
      "2025-04-08 03:45:02.209 Thread 'MainThread': missing ScriptRunContext! This warning can be ignored when running in bare mode.\n",
      "2025-04-08 03:45:02.209 Thread 'MainThread': missing ScriptRunContext! This warning can be ignored when running in bare mode.\n",
      "2025-04-08 03:45:02.210 Thread 'MainThread': missing ScriptRunContext! This warning can be ignored when running in bare mode.\n",
      "2025-04-08 03:45:02.210 Thread 'MainThread': missing ScriptRunContext! This warning can be ignored when running in bare mode.\n",
      "2025-04-08 03:45:02.210 Thread 'MainThread': missing ScriptRunContext! This warning can be ignored when running in bare mode.\n",
      "2025-04-08 03:45:02.210 Thread 'MainThread': missing ScriptRunContext! This warning can be ignored when running in bare mode.\n"
     ]
    }
   ],
   "execution_count": 1
  },
  {
   "metadata": {
    "ExecuteTime": {
     "end_time": "2025-04-08T07:45:19.871555Z",
     "start_time": "2025-04-08T07:45:19.868250Z"
    }
   },
   "cell_type": "code",
   "source": "print(A)",
   "id": "162f4360b5d06ced",
   "outputs": [
    {
     "name": "stdout",
     "output_type": "stream",
     "text": [
      "[[1 2]\n",
      " [3 4]]\n"
     ]
    }
   ],
   "execution_count": 2
  },
  {
   "metadata": {
    "ExecuteTime": {
     "end_time": "2025-04-08T07:46:51.192826Z",
     "start_time": "2025-04-08T07:46:51.190637Z"
    }
   },
   "cell_type": "code",
   "source": "result = A - B",
   "id": "a9a29b7f34116a29",
   "outputs": [],
   "execution_count": 7
  },
  {
   "metadata": {
    "ExecuteTime": {
     "end_time": "2025-04-08T07:46:52.801139Z",
     "start_time": "2025-04-08T07:46:52.796942Z"
    }
   },
   "cell_type": "code",
   "source": "result",
   "id": "54f94e6469f9d0f9",
   "outputs": [
    {
     "data": {
      "text/plain": [
       "array([[0, 0],\n",
       "       [0, 0]])"
      ]
     },
     "execution_count": 8,
     "metadata": {},
     "output_type": "execute_result"
    }
   ],
   "execution_count": 8
  },
  {
   "metadata": {
    "ExecuteTime": {
     "end_time": "2025-04-08T07:46:14.819087Z",
     "start_time": "2025-04-08T07:46:14.816440Z"
    }
   },
   "cell_type": "code",
   "source": "print(B)",
   "id": "28dfa2cf71687ff1",
   "outputs": [
    {
     "name": "stdout",
     "output_type": "stream",
     "text": [
      "[[1 2]\n",
      " [3 4]]\n"
     ]
    }
   ],
   "execution_count": 6
  },
  {
   "metadata": {},
   "cell_type": "code",
   "outputs": [],
   "execution_count": null,
   "source": "",
   "id": "2bbc3ce87c372f07"
  }
 ],
 "metadata": {
  "kernelspec": {
   "display_name": "Python 3",
   "language": "python",
   "name": "python3"
  },
  "language_info": {
   "codemirror_mode": {
    "name": "ipython",
    "version": 2
   },
   "file_extension": ".py",
   "mimetype": "text/x-python",
   "name": "python",
   "nbconvert_exporter": "python",
   "pygments_lexer": "ipython2",
   "version": "2.7.6"
  }
 },
 "nbformat": 4,
 "nbformat_minor": 5
}
