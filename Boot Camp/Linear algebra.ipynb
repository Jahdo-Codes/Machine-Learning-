{
 "cells": [
  {
   "metadata": {
    "collapsed": true,
    "ExecuteTime": {
     "end_time": "2025-04-05T09:06:42.865317Z",
     "start_time": "2025-04-05T09:06:42.862511Z"
    }
   },
   "cell_type": "code",
   "outputs": [],
   "execution_count": 2,
   "source": [
    "import numpy as np\n",
    "import random"
   ],
   "id": "initial_id"
  },
  {
   "metadata": {},
   "cell_type": "markdown",
   "source": "#### Matrix Addition",
   "id": "2a04f69d0271438e"
  },
  {
   "metadata": {
    "ExecuteTime": {
     "end_time": "2025-04-05T09:26:00.948482Z",
     "start_time": "2025-04-05T09:26:00.944635Z"
    },
    "tags": []
   },
   "cell_type": "code",
   "source": [
    "# Use numpy to generate matrix array for x, y & c\n",
    "x = np.random.randint(low = 0, high = 9, size=(3,3),dtype='int')\n",
    "print(x)\n",
    "\n",
    "y = np.random.randint(low = 0, high = 9, size=(3,3),dtype='int')\n",
    "print(y)\n",
    "\n",
    "c = np.zeros((3,3),dtype='int')\n",
    "print(c)\n",
    "\n",
    "# Loops through each element in the 3 list that make up x\n",
    "# Loops through each element in the 3 list that make up y\n",
    "# adds the x & y elements that are at the same position\n",
    "for i in range(len(x)):\n",
    "    for j in range(len(x[0])):\n",
    "\n",
    "        c[i][j] = (x[i][j]+y[i][j])\n",
    "print(c)"
   ],
   "id": "f86527862e358daf",
   "outputs": [
    {
     "name": "stdout",
     "output_type": "stream",
     "text": [
      "[[2 3 6]\n",
      " [1 2 6]\n",
      " [8 4 2]]\n"
     ]
    }
   ],
   "execution_count": 54
  },
  {
   "metadata": {
    "ExecuteTime": {
     "end_time": "2025-04-05T10:04:31.374853Z",
     "start_time": "2025-04-05T10:04:31.371969Z"
    }
   },
   "cell_type": "code",
   "source": [
    "rows_A, col_A = a.shape\n",
    "rows_B, col_B = b.shape\n"
   ],
   "id": "c5b9d525bcd0992",
   "outputs": [
    {
     "name": "stdout",
     "output_type": "stream",
     "text": [
      "3\n",
      "4\n",
      "4\n",
      "3\n"
     ]
    }
   ],
   "execution_count": 80
  },
  {
   "metadata": {},
   "cell_type": "markdown",
   "source": "#### Matrix multiplication",
   "id": "7aa119ea3de222af"
  },
  {
   "metadata": {
    "ExecuteTime": {
     "end_time": "2025-04-05T10:24:07.700083Z",
     "start_time": "2025-04-05T10:24:07.694915Z"
    }
   },
   "cell_type": "code",
   "source": [
    "# Use numpy to generate matrix array for x, y & c\n",
    "a = np.random.randint(low = 0, high = 9, size=(2,2),dtype='int')\n",
    "print(a,'\\n')\n",
    "\n",
    "b = np.random.randint(low = 0, high = 9, size=(2,2),dtype='int')\n",
    "print(b,'\\n')\n",
    "\n",
    "z = np.zeros((2,2),dtype='int')\n",
    "\n",
    "# Get the dimensions of a & b\n",
    "rows_A, cols_A = a.shape\n",
    "rows_B, cols_B = b.shape\n",
    "\n",
    "# Check to see if matrix multiplication is possible\n",
    "# Only when the number of columns in a = number of rows in b\n",
    "if cols_A != rows_B:\n",
    "    raise ValueError(\"Number of columns in 'a' must match the number of rows in 'b'\")\n",
    "\n",
    "for i in range(rows_A):\n",
    "    for j in range(cols_B):\n",
    "        for k in range(cols_A):\n",
    "            z[i][j] += a[i][k]*b[k][j]\n",
    "print(z)\n"
   ],
   "id": "4e1f11301c83362b",
   "outputs": [
    {
     "name": "stdout",
     "output_type": "stream",
     "text": [
      "[[0 6]\n",
      " [0 7]] \n",
      "\n",
      "[[1 5]\n",
      " [6 2]] \n",
      "\n",
      "[[36 12]\n",
      " [42 14]]\n"
     ]
    }
   ],
   "execution_count": 102
  },
  {
   "metadata": {},
   "cell_type": "markdown",
   "source": "### Lets make a matrix calculator",
   "id": "49e54ca8bea985db"
  },
  {
   "metadata": {
    "ExecuteTime": {
     "end_time": "2025-04-05T21:05:09.964534Z",
     "start_time": "2025-04-05T21:05:09.793881Z"
    }
   },
   "cell_type": "code",
   "source": [
    "import streamlit as st\n",
    "import numpy as np"
   ],
   "id": "17d2ce8af4016d67",
   "outputs": [],
   "execution_count": 2
  },
  {
   "metadata": {
    "ExecuteTime": {
     "end_time": "2025-04-05T21:06:37.828777Z",
     "start_time": "2025-04-05T21:06:37.750147Z"
    }
   },
   "cell_type": "code",
   "source": [
    "st.title('Matrix calculator')\n",
    "st.subheader('Enter dimensions and desired task (addition/subtraction or multiplication)')"
   ],
   "id": "e4e00b239e515572",
   "outputs": [
    {
     "name": "stderr",
     "output_type": "stream",
     "text": [
      "2025-04-05 17:06:37.757 WARNING streamlit.runtime.scriptrunner_utils.script_run_context: Thread 'MainThread': missing ScriptRunContext! This warning can be ignored when running in bare mode.\n",
      "2025-04-05 17:06:37.824 \n",
      "  \u001B[33m\u001B[1mWarning:\u001B[0m to view this Streamlit app on a browser, run it with the following\n",
      "  command:\n",
      "\n",
      "    streamlit run /Library/Frameworks/Python.framework/Versions/3.12/lib/python3.12/site-packages/ipykernel_launcher.py [ARGUMENTS]\n",
      "2025-04-05 17:06:37.824 Thread 'MainThread': missing ScriptRunContext! This warning can be ignored when running in bare mode.\n",
      "2025-04-05 17:06:37.825 Thread 'MainThread': missing ScriptRunContext! This warning can be ignored when running in bare mode.\n",
      "2025-04-05 17:06:37.825 Thread 'MainThread': missing ScriptRunContext! This warning can be ignored when running in bare mode.\n"
     ]
    },
    {
     "data": {
      "text/plain": [
       "DeltaGenerator()"
      ]
     },
     "execution_count": 3,
     "metadata": {},
     "output_type": "execute_result"
    }
   ],
   "execution_count": 3
  },
  {
   "metadata": {},
   "cell_type": "code",
   "outputs": [],
   "execution_count": null,
   "source": "",
   "id": "462beeda16810658"
  }
 ],
 "metadata": {
  "kernelspec": {
   "display_name": "Python 3",
   "language": "python",
   "name": "python3"
  },
  "language_info": {
   "codemirror_mode": {
    "name": "ipython",
    "version": 2
   },
   "file_extension": ".py",
   "mimetype": "text/x-python",
   "name": "python",
   "nbconvert_exporter": "python",
   "pygments_lexer": "ipython2",
   "version": "2.7.6"
  }
 },
 "nbformat": 4,
 "nbformat_minor": 5
}
