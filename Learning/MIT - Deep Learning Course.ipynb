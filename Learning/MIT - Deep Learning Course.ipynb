{
 "cells": [
  {
   "metadata": {},
   "cell_type": "markdown",
   "source": "## Tensors",
   "id": "8192638288523fd4"
  },
  {
   "metadata": {},
   "cell_type": "markdown",
   "source": "### Basics",
   "id": "2f6cd70423e90efa"
  },
  {
   "metadata": {
    "ExecuteTime": {
     "end_time": "2025-04-17T15:09:42.725351Z",
     "start_time": "2025-04-17T15:09:39.293396Z"
    }
   },
   "cell_type": "code",
   "outputs": [],
   "execution_count": 1,
   "source": [
    "import torch\n",
    "import torch.nn as nn\n",
    "\n",
    "import numpy as np\n",
    "import matplotlib.pyplot as plt\n"
   ],
   "id": "eb32d9ac0523a850"
  },
  {
   "metadata": {
    "ExecuteTime": {
     "end_time": "2025-04-17T15:11:37.259627Z",
     "start_time": "2025-04-17T15:11:37.256322Z"
    }
   },
   "cell_type": "code",
   "source": [
    "integer = torch.tensor(1234)\n",
    "decimal = torch.tensor(123.456)\n",
    "\n",
    "print(f'integer : {integer.ndim} - d Tensor: {integer}')\n",
    "print(f'decimal : {decimal.ndim} - d Tensor: {decimal}')"
   ],
   "id": "5f20e5bc818b41ce",
   "outputs": [
    {
     "name": "stdout",
     "output_type": "stream",
     "text": [
      "integer : 0 - d Tensor: 1234\n",
      "decimal : 0 - d Tensor: 123.45600128173828\n"
     ]
    }
   ],
   "execution_count": 3
  },
  {
   "metadata": {
    "ExecuteTime": {
     "end_time": "2025-04-17T15:13:38.661241Z",
     "start_time": "2025-04-17T15:13:38.655354Z"
    }
   },
   "cell_type": "code",
   "source": [
    "fibonacci = torch.tensor([1,1,2,3,5,8])\n",
    "count_to_100 = torch.tensor(range(100))\n",
    "\n",
    "print(f'fibonacci : {fibonacci.ndim} - d Tensor: {fibonacci}')\n",
    "print(f'Count to 100 : {count_to_100.ndim} - d Tensor: {count_to_100}')"
   ],
   "id": "dcba279a0eb7ba4e",
   "outputs": [
    {
     "name": "stdout",
     "output_type": "stream",
     "text": [
      "fibonacci : 1 - d Tensor: tensor([1, 1, 2, 3, 5, 8])\n",
      "Count to 100 : 1 - d Tensor: tensor([ 0,  1,  2,  3,  4,  5,  6,  7,  8,  9, 10, 11, 12, 13, 14, 15, 16, 17,\n",
      "        18, 19, 20, 21, 22, 23, 24, 25, 26, 27, 28, 29, 30, 31, 32, 33, 34, 35,\n",
      "        36, 37, 38, 39, 40, 41, 42, 43, 44, 45, 46, 47, 48, 49, 50, 51, 52, 53,\n",
      "        54, 55, 56, 57, 58, 59, 60, 61, 62, 63, 64, 65, 66, 67, 68, 69, 70, 71,\n",
      "        72, 73, 74, 75, 76, 77, 78, 79, 80, 81, 82, 83, 84, 85, 86, 87, 88, 89,\n",
      "        90, 91, 92, 93, 94, 95, 96, 97, 98, 99])\n"
     ]
    }
   ],
   "execution_count": 5
  },
  {
   "metadata": {
    "ExecuteTime": {
     "end_time": "2025-04-17T15:23:53.569824Z",
     "start_time": "2025-04-17T15:23:53.566488Z"
    }
   },
   "cell_type": "code",
   "source": [
    "# Check if the input is a tensor\n",
    "# Return the dimensions of the tensor\n",
    "def tensor_check(matrix):\n",
    "    if not isinstance(matrix, torch.Tensor):\n",
    "        return 'Not a Tensor'\n",
    "    else:\n",
    "        return f'Matrix: {matrix.ndim}D tensor'"
   ],
   "id": "4d106b7245e4e2fc",
   "outputs": [],
   "execution_count": 18
  },
  {
   "metadata": {
    "ExecuteTime": {
     "end_time": "2025-04-17T15:39:48.604130Z",
     "start_time": "2025-04-17T15:39:48.600677Z"
    }
   },
   "cell_type": "code",
   "source": [
    "matrix = torch.tensor([[1,2,3],[4,5,6]])\n",
    "print(tensor_check(matrix))"
   ],
   "id": "42e112b519a3ae13",
   "outputs": [
    {
     "name": "stdout",
     "output_type": "stream",
     "text": [
      "Matrix: 2D tensor\n"
     ]
    }
   ],
   "execution_count": 26
  },
  {
   "metadata": {
    "ExecuteTime": {
     "end_time": "2025-04-17T15:25:26.173106Z",
     "start_time": "2025-04-17T15:25:26.170995Z"
    }
   },
   "cell_type": "code",
   "source": [
    "matrix = torch.zeros(2,2,2,2)\n",
    "print(tensor_check(matrix))"
   ],
   "id": "6a209776245d890a",
   "outputs": [
    {
     "name": "stdout",
     "output_type": "stream",
     "text": [
      "Matrix: 4D tensor\n"
     ]
    }
   ],
   "execution_count": 21
  },
  {
   "metadata": {
    "ExecuteTime": {
     "end_time": "2025-04-17T15:39:50.472088Z",
     "start_time": "2025-04-17T15:39:50.466227Z"
    }
   },
   "cell_type": "code",
   "source": [
    "row_vector = matrix[1]\n",
    "column_vector = matrix[:,1]\n",
    "scalar = matrix[0,1]\n",
    "\n",
    "print(f'row vector : {row_vector}')\n",
    "print(f'column vector : {column_vector}')\n",
    "print(f'scalar : {scalar}')"
   ],
   "id": "cba8a979232dcde8",
   "outputs": [
    {
     "name": "stdout",
     "output_type": "stream",
     "text": [
      "row vector : tensor([4, 5, 6])\n",
      "column vector : tensor([2, 5])\n",
      "scalar : 2\n"
     ]
    }
   ],
   "execution_count": 27
  },
  {
   "metadata": {},
   "cell_type": "markdown",
   "source": "### Computations on tensors",
   "id": "f1856769f0316c7d"
  },
  {
   "metadata": {
    "ExecuteTime": {
     "end_time": "2025-04-17T15:44:32.669998Z",
     "start_time": "2025-04-17T15:44:32.665757Z"
    }
   },
   "cell_type": "code",
   "source": [
    "a = torch.tensor([15])\n",
    "b = torch.tensor([20])\n",
    "\n",
    "c1 = torch.add(a,b)\n",
    "c2 = a + b\n",
    "print(f'c1: {c1}')\n",
    "print(f'c2: {c2}')"
   ],
   "id": "59736e71952a6ad1",
   "outputs": [
    {
     "name": "stdout",
     "output_type": "stream",
     "text": [
      "c1: tensor([35])\n",
      "c2: tensor([35])\n"
     ]
    }
   ],
   "execution_count": 30
  },
  {
   "metadata": {
    "ExecuteTime": {
     "end_time": "2025-04-17T15:52:54.406300Z",
     "start_time": "2025-04-17T15:52:54.400394Z"
    }
   },
   "cell_type": "code",
   "source": [
    "a = torch.tensor([1.5])\n",
    "b = torch.tensor([2.5])\n",
    "\n",
    "c = a + b\n",
    "d = b - 1\n",
    "e = c * d\n",
    "print(f'c: {c}')\n",
    "print(f'd: {d}')\n",
    "print(f'e: {e}')"
   ],
   "id": "e7d259e64ea6c0df",
   "outputs": [
    {
     "name": "stdout",
     "output_type": "stream",
     "text": [
      "c: tensor([4.])\n",
      "d: tensor([1.5000])\n",
      "e: tensor([6.])\n"
     ]
    }
   ],
   "execution_count": 35
  },
  {
   "metadata": {},
   "cell_type": "markdown",
   "source": "### Neural networks in Pytorch",
   "id": "e756236e737a3aee"
  },
  {
   "metadata": {
    "ExecuteTime": {
     "end_time": "2025-04-17T18:10:25.604134Z",
     "start_time": "2025-04-17T18:10:25.595949Z"
    }
   },
   "cell_type": "code",
   "source": [
    "torch.manual_seed(42)\n",
    "\n",
    "\n",
    "class dense_layer(nn.Module):\n",
    "    def __init__(self, num_inputs, num_outputs):\n",
    "        super(dense_layer, self).__init__()\n",
    "        self.W = torch.nn.Parameter(torch.randn(num_inputs, num_outputs))\n",
    "        self.bias = torch.nn.Parameter(torch.randn(num_outputs))\n",
    "\n",
    "    def forward(self, x):\n",
    "        z = torch.matmul(x, self.W) + self.bias\n",
    "        y = torch.sigmoid(z)\n",
    "        return y\n",
    "\n",
    "num_inputs = 2\n",
    "num_outputs = 3\n",
    "\n",
    "layer = dense_layer(num_inputs, num_outputs)\n",
    "x_input = torch.randn(1,2)\n",
    "y = layer(x_input)\n",
    "\n",
    "print(f'input shape: {x_input.shape}')\n",
    "print(f'output shape: {y.shape}')\n",
    "print(f'output result: {y}')"
   ],
   "id": "ffdd1ed3a4db42f4",
   "outputs": [
    {
     "name": "stdout",
     "output_type": "stream",
     "text": [
      "input shape: torch.Size([1, 2])\n",
      "output shape: torch.Size([1, 3])\n",
      "output result: tensor([[0.9184, 0.2307, 0.6046]], grad_fn=<SigmoidBackward0>)\n"
     ]
    }
   ],
   "execution_count": 54
  },
  {
   "metadata": {
    "ExecuteTime": {
     "end_time": "2025-04-17T18:09:50.984452Z",
     "start_time": "2025-04-17T18:09:50.979085Z"
    }
   },
   "cell_type": "code",
   "source": [
    "model = nn.Sequential(\n",
    "    nn.Linear(num_inputs, num_outputs),\n",
    "    nn.Sigmoid()\n",
    ")\n",
    "\n",
    "print(f'Input shape: {x_input.shape}')\n",
    "print(f'Output shape: {y.shape}')\n",
    "print(f'Output: {y}')"
   ],
   "id": "619f7b4804513e42",
   "outputs": [
    {
     "name": "stdout",
     "output_type": "stream",
     "text": [
      "Input shape: torch.Size([1, 2])\n",
      "Output shape: torch.Size([1, 3])\n",
      "Output: tensor([[0.9184, 0.2307, 0.6046]], grad_fn=<SigmoidBackward0>)\n"
     ]
    }
   ],
   "execution_count": 50
  },
  {
   "metadata": {
    "ExecuteTime": {
     "end_time": "2025-04-17T18:10:30.987222Z",
     "start_time": "2025-04-17T18:10:30.979659Z"
    }
   },
   "cell_type": "code",
   "source": [
    "class linear_sigmoid(nn.Module):\n",
    "    def __init__(self, num_inputs, num_outputs):\n",
    "        super(linear_sigmoid, self).__init__()\n",
    "        self.linear = nn.Linear(num_inputs, num_outputs)\n",
    "        self.activation = nn.Sigmoid()\n",
    "    def forward(self, inputs):\n",
    "        linear_output = self.linear(inputs)\n",
    "        output = self.activation(linear_output)\n",
    "        return output\n",
    "n_input_nodes = 2\n",
    "n_output_nodes = 3\n",
    "model = linear_sigmoid(n_input_nodes, n_output_nodes)\n",
    "x_input = torch.tensor([[1, 2.]])\n",
    "y = model(x_input)\n",
    "print(f\"input shape: {x_input.shape}\")\n",
    "print(f\"output shape: {y.shape}\")\n",
    "print(f\"output result: {y}\")"
   ],
   "id": "a5e27be0f14b3d8e",
   "outputs": [
    {
     "name": "stdout",
     "output_type": "stream",
     "text": [
      "input shape: torch.Size([1, 2])\n",
      "output shape: torch.Size([1, 3])\n",
      "output result: tensor([[0.3609, 0.1610, 0.3134]], grad_fn=<SigmoidBackward0>)\n"
     ]
    }
   ],
   "execution_count": 55
  },
  {
   "metadata": {
    "ExecuteTime": {
     "end_time": "2025-04-18T09:27:32.919156Z",
     "start_time": "2025-04-18T09:27:32.913287Z"
    }
   },
   "cell_type": "code",
   "source": [
    "### Custom behavior with subclassing nn.Module ###\n",
    "class LinearButSometimesIdentity(nn.Module):\n",
    "    def __init__(self, num_inputs, num_outputs):\n",
    "        super(LinearButSometimesIdentity, self).__init__()\n",
    "        self.linear = nn.Linear(num_inputs, num_outputs)\n",
    "\n",
    "    def forward(self, inputs, identity=False):\n",
    "        if identity:\n",
    "            return inputs\n",
    "        else:\n",
    "            return self.linear(inputs)\n",
    "\n",
    "# Test the IdentityModel\n",
    "model = LinearButSometimesIdentity(num_inputs=2, num_outputs=3)\n",
    "x_input = torch.tensor([[1, 2.]])\n",
    "\n",
    "out_with_linear = model(x_input)\n",
    "\n",
    "out_with_identity = model(x_input, identity=True)\n",
    "\n",
    "print(f\"input: {x_input}\")\n",
    "print(\"Network linear output: {}; network identity output: {}\".format(out_with_linear, out_with_identity))\n"
   ],
   "id": "5043c44c9a1d22c9",
   "outputs": [
    {
     "name": "stdout",
     "output_type": "stream",
     "text": [
      "input: tensor([[1., 2.]])\n",
      "Network linear output: tensor([[ 1.8575, -1.4971,  0.2080]], grad_fn=<AddmmBackward0>); network identity output: tensor([[1., 2.]])\n"
     ]
    }
   ],
   "execution_count": 61
  },
  {
   "metadata": {},
   "cell_type": "code",
   "outputs": [],
   "execution_count": null,
   "source": "",
   "id": "ce5afb3d78844d13"
  }
 ],
 "metadata": {
  "kernelspec": {
   "display_name": "Python 3",
   "language": "python",
   "name": "python3"
  },
  "language_info": {
   "codemirror_mode": {
    "name": "ipython",
    "version": 2
   },
   "file_extension": ".py",
   "mimetype": "text/x-python",
   "name": "python",
   "nbconvert_exporter": "python",
   "pygments_lexer": "ipython2",
   "version": "2.7.6"
  }
 },
 "nbformat": 4,
 "nbformat_minor": 5
}
